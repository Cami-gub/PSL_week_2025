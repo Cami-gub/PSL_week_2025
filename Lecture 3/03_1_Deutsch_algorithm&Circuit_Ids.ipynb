{
 "cells": [
  {
   "cell_type": "code",
   "execution_count": 2,
   "metadata": {},
   "outputs": [
    {
     "name": "stderr",
     "output_type": "stream",
     "text": [
      "C:\\Users\\guben\\AppData\\Local\\Temp\\ipykernel_8360\\1116623711.py:8: DeprecationWarning: The class ``qiskit.primitives.backend_sampler.BackendSampler`` is deprecated as of qiskit 1.2. It will be removed no earlier than 3 months after the release date. All implementations of the `BaseSamplerV1` interface have been deprecated in favor of their V2 counterparts. The V2 alternative for the `BackendSampler` class is `BackendSamplerV2`.\n",
      "  sampler = BackendSampler(backend = backend_sim)\n"
     ]
    }
   ],
   "source": [
    "from qiskit_aer import AerSimulator\n",
    "from qiskit_ibm_runtime import Options, Session, SamplerV2 as Sampler\n",
    "backend_sim = AerSimulator()\n",
    "simulator = AerSimulator()\n",
    "\n",
    "#Import an estimator, this time from qiskit (we import from Runtime for real hardware)\n",
    "from qiskit.primitives import BackendSampler\n",
    "sampler = BackendSampler(backend = backend_sim)\n",
    "import numpy as np\n",
    "from qiskit.visualization import plot_bloch_vector, plot_histogram\n",
    "import matplotlib.pyplot as plt\n",
    "\n",
    "from qiskit.circuit import QuantumRegister, ClassicalRegister, QuantumCircuit, Parameter, Gate\n",
    "\n",
    "from qiskit import QuantumCircuit, transpile\n",
    "from qiskit.result import marginal_counts\n",
    "from qiskit.circuit.library import QFT"
   ]
  },
  {
   "cell_type": "markdown",
   "metadata": {},
   "source": [
    "# Deutsch algorithm"
   ]
  },
  {
   "cell_type": "markdown",
   "metadata": {},
   "source": [
    "<h3>What is Deutsch’s Algorithm?</h3>\n",
    "\n",
    "Deutsch’s Algorithm is a quantum algorithm which can determine if a Boolean function is constant (Always the same) or balanced (Changes Sometimes) using only one query. This contrasts with classical algorithms, which require multiple queries.\n",
    "\n",
    "- Boolean Function: Is a function which takes one or more binary inputs (0's and 1's) then functions and produces a single binary.\n",
    "\n",
    "A constant function is one that always outputs the same value.\n",
    "A balanced function is one that outputs 0 half of the time and 1 half of the time.\n",
    "\n",
    "\n",
    "\n",
    "<h2>Problem Statement</h2>\n",
    "\n",
    "$f: \\{0, 1\\}^n \\to \\{0, 1\\}$\n",
    "\n",
    "![image-2.png](images/image.png)\n",
    "\n",
    "Given a black box function f: {0, 1} → {0, 1}, determine whether f is a constant function or a balanced function. An oracle acts as a black box function\n",
    "\n",
    "Deutsch's algorithm can solve this problem with only one query to the black box function. This is a significant improvement over any classical algorithm, which would require evaluating the function at both 0 and 1 to determine its behavior.<a href=\"https://en.wikipedia.org/wiki/Deutsch%E2%80%93Jozsa_algorithm\">[2]. Wikipedia</a>"
   ]
  },
  {
   "cell_type": "code",
   "execution_count": 3,
   "metadata": {},
   "outputs": [
    {
     "data": {
      "image/png": "[encoded data removed]",
      "text/plain": [
       "<Figure size 203.683x200.667 with 1 Axes>"
      ]
     },
     "execution_count": 3,
     "metadata": {},
     "output_type": "execute_result"
    }
   ],
   "source": [
    "\"\"\" Exercise: Build the oracle for all the possible cases\n",
    "Case 1: \n",
    "f(0) = f(1) = 0\n",
    "Case 2:\n",
    "f(0) =0 and f(1) = 1\n",
    "Case 3:\n",
    "f(0) = 1 and f(1) = 0\n",
    "Case 4:\n",
    "f(0) = f(1) = 1\n",
    "\n",
    "\n",
    "\"\"\"\n",
    "def deutsch_function(case: int):\n",
    "    \"\"\"\n",
    "    Generate a valid Deutsch function as a `QuantumCircuit`. \n",
    "    case (int): The case of the Deutsch function. Must be 1, 2, 3, or 4.\n",
    "    \"\"\"\n",
    "\n",
    "    if case == 1:\n",
    "        qc = QuantumCircuit(2)\n",
    "        return qc\n",
    "    if case == 2 :\n",
    "        qc = QuantumCircuit(2)\n",
    "        qc.x(0)\n",
    "        qc.cx(0,1)\n",
    "        qc.x(0)\n",
    "        return qc\n",
    "    if case == 3:\n",
    "        qc = QuantumCircuit(2)\n",
    "        qc.cx(0,1)\n",
    "        return qc\n",
    "    if case == 4 :\n",
    "        qc = QuantumCircuit(2)\n",
    "        qc.x(1)\n",
    "        return qc\n",
    "    if case not in [1, 2, 3, 4]:\n",
    "        raise ValueError(\"`case` must be 1, 2, 3, or 4.\")\n",
    "\n",
    "\n",
    "deutsch_function(3).draw(output=\"mpl\")"
   ]
  },
  {
   "cell_type": "code",
   "execution_count": 9,
   "metadata": {},
   "outputs": [
    {
     "data": {
      "image/png": "[encoded data removed]",
      "text/plain": [
       "<Figure size 705.35x284.278 with 1 Axes>"
      ]
     },
     "metadata": {},
     "output_type": "display_data"
    }
   ],
   "source": [
    "# we need to include the oracle now in the circuit\n",
    "def compile_circuit(function: QuantumCircuit):\n",
    "    \"\"\"\n",
    "    Compiles a circuit for use in Deutsch's algorithm.\n",
    "    \"\"\"\n",
    "    n = function.num_qubits - 1\n",
    "    qc = QuantumCircuit(n + 1, n)\n",
    "\n",
    "    qc.x(n)\n",
    "    qc.h(range(n + 1))\n",
    "\n",
    "    qc.barrier()\n",
    "    qc.compose(function, inplace=True)\n",
    "    qc.barrier()\n",
    "\n",
    "    qc.h(range(n))\n",
    "    qc.measure(range(n), range(n))\n",
    "\n",
    "    return qc\n",
    "display(compile_circuit(deutsch_function(3)).draw(output=\"mpl\"))"
   ]
  },
  {
   "cell_type": "code",
   "execution_count": 14,
   "metadata": {},
   "outputs": [
    {
     "name": "stdout",
     "output_type": "stream",
     "text": [
      "balanced\n"
     ]
    }
   ],
   "source": [
    "function = deutsch_function(3)\n",
    "\"\"\"\n",
    "# Let us now run the circuit and see if the function is balanced or constant\n",
    "\"\"\"\n",
    "\n",
    "\n",
    "qc = compile_circuit(function)\n",
    "\n",
    "result = AerSimulator().run(qc, shots=1, memory=True).result()\n",
    "measurements = result.get_memory()\n",
    "if measurements[0] == \"0\":\n",
    "    print(\"constant\")\n",
    "else :\n",
    "    print(\"balanced\")\n",
    "\n"
   ]
  },
  {
   "cell_type": "code",
   "execution_count": 15,
   "metadata": {},
   "outputs": [
    {
     "data": {
      "image/png": "[encoded data removed]",
      "text/plain": [
       "<Figure size 705.35x284.278 with 1 Axes>"
      ]
     },
     "metadata": {},
     "output_type": "display_data"
    }
   ],
   "source": [
    "display(qc.draw('mpl'))"
   ]
  },
  {
   "cell_type": "code",
   "execution_count": 6,
   "metadata": {},
   "outputs": [],
   "source": [
    "# Exercise : Run the same circuit on a real quantum computer"
   ]
  },
  {
   "cell_type": "code",
   "execution_count": 7,
   "metadata": {},
   "outputs": [
    {
     "name": "stdout",
     "output_type": "stream",
     "text": [
      "ibm_sherbrooke\n"
     ]
    }
   ],
   "source": [
    "# transpiling the circuits\n",
    "from qiskit_ibm_runtime import QiskitRuntimeService\n",
    "# Let s find the least busy backend\n",
    "service = QiskitRuntimeService(channel='ibm_quantum')\n",
    "backend = service.least_busy()\n",
    "print(backend.name)\n",
    "sampler = Sampler(mode=backend)\n",
    "sampler.options.default_shots = 100\n",
    "\n",
    "from qiskit.transpiler.preset_passmanagers import generate_preset_pass_manager\n",
    "pm = generate_preset_pass_manager(optimization_level=3, backend=backend) "
   ]
  },
  {
   "cell_type": "code",
   "execution_count": 17,
   "metadata": {},
   "outputs": [
    {
     "data": {
      "image/png": "[encoded data removed]",
      "text/plain": [
       "<Figure size 1361.54x284.278 with 1 Axes>"
      ]
     },
     "execution_count": 17,
     "metadata": {},
     "output_type": "execute_result"
    }
   ],
   "source": [
    "qc_transpiled = pm.run(qc)\n",
    "                      \n",
    "qc_transpiled.draw('mpl', idle_wires=False)"
   ]
  },
  {
   "cell_type": "code",
   "execution_count": 18,
   "metadata": {},
   "outputs": [
    {
     "name": "stdout",
     "output_type": "stream",
     "text": [
      ">>> Job ID: cz5kmy310wx0008bpe70\n",
      ">>> Job Status: QUEUED\n"
     ]
    }
   ],
   "source": [
    "shots = 1_000\n",
    "job = sampler.run([qc_transpiled], shots=shots)\n",
    "\n",
    "print(f\">>> Job ID: {job.job_id()}\")\n",
    "print(f\">>> Job Status: {job.status()}\")"
   ]
  },
  {
   "cell_type": "code",
   "execution_count": 19,
   "metadata": {},
   "outputs": [
    {
     "name": "stdout",
     "output_type": "stream",
     "text": [
      ">>> Job Status: DONE\n"
     ]
    }
   ],
   "source": [
    "print(f\">>> Job Status: {job.status()}\")"
   ]
  },
  {
   "cell_type": "code",
   "execution_count": 20,
   "metadata": {},
   "outputs": [
    {
     "data": {
      "image/png": "[encoded data removed]",
      "text/plain": [
       "<Figure size 640x480 with 1 Axes>"
      ]
     },
     "execution_count": 20,
     "metadata": {},
     "output_type": "execute_result"
    }
   ],
   "source": [
    "counts = job.result()[0].data.c.get_counts()\n",
    "plot_histogram(counts)"
   ]
  },
  {
   "cell_type": "code",
   "execution_count": 21,
   "metadata": {},
   "outputs": [
    {
     "data": {
      "image/png": "[encoded data removed]",
      "text/plain": [
       "<Figure size 621.739x284.278 with 1 Axes>"
      ]
     },
     "metadata": {},
     "output_type": "display_data"
    },
    {
     "data": {
      "image/png": "[encoded data removed]",
      "text/plain": [
       "<Figure size 961.715x284.278 with 1 Axes>"
      ]
     },
     "metadata": {},
     "output_type": "display_data"
    }
   ],
   "source": [
    "## test with now a constant function (we should have 0)\n",
    "\n",
    "function = deutsch_function(1)\n",
    "qc = compile_circuit(function)\n",
    "qc_transpiled = pm.run(qc)\n",
    "\n",
    "display(qc.draw('mpl'))                      \n",
    "display(qc_transpiled.draw('mpl', idle_wires=False))\n",
    "\n"
   ]
  },
  {
   "cell_type": "code",
   "execution_count": 22,
   "metadata": {},
   "outputs": [
    {
     "name": "stdout",
     "output_type": "stream",
     "text": [
      ">>> Job ID: cz5kp4rh0kc000893jy0\n",
      ">>> Job Status: QUEUED\n"
     ]
    }
   ],
   "source": [
    "shots = 1_000\n",
    "job = sampler.run([qc_transpiled], shots=shots)\n",
    "\n",
    "print(f\">>> Job ID: {job.job_id()}\")\n",
    "print(f\">>> Job Status: {job.status()}\")"
   ]
  },
  {
   "cell_type": "code",
   "execution_count": 24,
   "metadata": {},
   "outputs": [
    {
     "name": "stdout",
     "output_type": "stream",
     "text": [
      ">>> Job Status: DONE\n"
     ]
    }
   ],
   "source": [
    "print(f\">>> Job Status: {job.status()}\")"
   ]
  },
  {
   "cell_type": "code",
   "execution_count": 25,
   "metadata": {},
   "outputs": [
    {
     "data": {
      "image/png": "[encoded data removed]",
      "text/plain": [
       "<Figure size 640x480 with 1 Axes>"
      ]
     },
     "execution_count": 25,
     "metadata": {},
     "output_type": "execute_result"
    }
   ],
   "source": [
    "counts = job.result()[0].data.c.get_counts()\n",
    "plot_histogram(counts)"
   ]
  },
  {
   "cell_type": "markdown",
   "metadata": {},
   "source": [
    "# Circuit Identities"
   ]
  },
  {
   "cell_type": "markdown",
   "metadata": {},
   "source": [
    "## 1. Making a Controlled-Z from a CNOT <a id=\"c-from-cnot\"></a>\n",
    "\n",
    "The controlled-Z or `cz` gate is another well-used two-qubit gate. Just as the CNOT applies an $X$ to its target qubit whenever its control is in state $|1\\rangle$, the controlled-$Z$ applies a $Z$ in the same case. In Qiskit it can be invoked directly with"
   ]
  },
  {
   "cell_type": "code",
   "execution_count": 6,
   "metadata": {},
   "outputs": [
    {
     "data": {
      "image/png": "[encoded data removed]",
      "text/plain": [
       "<Figure size 183.049x200.667 with 1 Axes>"
      ]
     },
     "execution_count": 6,
     "metadata": {},
     "output_type": "execute_result"
    }
   ],
   "source": [
    "# a controlled-Z\n",
    "c = QuantumRegister(1, 'c')\n",
    "t = QuantumRegister(1, 't')\n",
    "qc = QuantumCircuit(c, t)\n",
    "qc.cz(c,t)\n",
    "qc.draw('mpl')"
   ]
  },
  {
   "cell_type": "markdown",
   "metadata": {},
   "source": [
    "where c and t are the control and target qubits. In IBM Q devices, however, the only kind of two-qubit gate that can be directly applied is the CNOT. We therefore need a way to transform one to the other.\n",
    "\n",
    "The process for this is quite simple. We know that the Hadamard transforms the states $|0\\rangle$ and $|1\\rangle$ to the states $|+\\rangle$ and $|-\\rangle$ respectively. We also know that the effect of the $Z$ gate on the states $|+\\rangle$ and $|-\\rangle$ is the same as that for $X$ on the states $|0\\rangle$ and $|1\\rangle$ respectively. From this reasoning, or from simply multiplying matrices, we find that\n",
    "\n",
    "$$\n",
    "H X H = Z,\\\\\\\\\n",
    "H Z H = X.\n",
    "$$\n",
    "\n",
    "The same trick can be used to transform a CNOT into a controlled-$Z$. All we need to do is precede and follow the CNOT with a Hadamard on the target qubit. This will transform any $X$ applied to that qubit into a $Z$."
   ]
  },
  {
   "cell_type": "code",
   "execution_count": 7,
   "metadata": {},
   "outputs": [
    {
     "data": {
      "image/png": "[encoded data removed]",
      "text/plain": [
       "<Figure size 350.271x200.667 with 1 Axes>"
      ]
     },
     "execution_count": 7,
     "metadata": {},
     "output_type": "execute_result"
    }
   ],
   "source": [
    "c = QuantumRegister(1, 'c')\n",
    "t = QuantumRegister(1, 't')\n",
    "qc = QuantumCircuit(c, t)\n",
    "# also a controlled-Z\n",
    "qc.h(t)\n",
    "qc.cx(c,t)\n",
    "qc.h(t)\n",
    "qc.draw('mpl')"
   ]
  },
  {
   "cell_type": "markdown",
   "metadata": {},
   "source": [
    "More generally, we can transform a single CNOT  into a controlled version of any rotation around the Bloch sphere by an angle $\\pi$, by simply preceding and following it with the correct rotations. For example, a controlled-$Y$:"
   ]
  },
  {
   "cell_type": "code",
   "execution_count": 8,
   "metadata": {},
   "outputs": [
    {
     "data": {
      "image/png": "[encoded data removed]",
      "text/plain": [
       "<Figure size 350.271x200.667 with 1 Axes>"
      ]
     },
     "execution_count": 8,
     "metadata": {},
     "output_type": "execute_result"
    }
   ],
   "source": [
    "c = QuantumRegister(1, 'c')\n",
    "t = QuantumRegister(1, 't')\n",
    "qc = QuantumCircuit(c, t)\n",
    "# a controlled-Y\n",
    "qc.sdg(t)\n",
    "qc.cx(c,t)\n",
    "qc.s(t)\n",
    "qc.draw('mpl')"
   ]
  },
  {
   "cell_type": "markdown",
   "metadata": {},
   "source": [
    "and a controlled-$H$:"
   ]
  },
  {
   "cell_type": "code",
   "execution_count": 9,
   "metadata": {},
   "outputs": [
    {
     "data": {
      "image/png": "[encoded data removed]",
      "text/plain": [
       "<Figure size 350.271x200.667 with 1 Axes>"
      ]
     },
     "execution_count": 9,
     "metadata": {},
     "output_type": "execute_result"
    }
   ],
   "source": [
    "from numpy import pi\n",
    "c = QuantumRegister(1, 'c')\n",
    "t = QuantumRegister(1, 't')\n",
    "qc = QuantumCircuit(c,t)\n",
    "# a controlled-H\n",
    "qc.ry(pi/4,t)\n",
    "qc.cx(c,t)\n",
    "qc.ry(-pi/4,t)\n",
    "qc.draw('mpl')"
   ]
  },
  {
   "cell_type": "markdown",
   "metadata": {},
   "source": [
    "## 2. Swapping Qubits <a id=\"swapping\"></a>"
   ]
  },
  {
   "cell_type": "code",
   "execution_count": 10,
   "metadata": {},
   "outputs": [],
   "source": [
    "a = 0\n",
    "b = 1"
   ]
  },
  {
   "cell_type": "markdown",
   "metadata": {},
   "source": [
    "Sometimes we need to move information around in a quantum computer. For some qubit implementations, this could be done by physically moving them. Another option is simply to move the state between two qubits. This is done by the SWAP gate."
   ]
  },
  {
   "cell_type": "code",
   "execution_count": 11,
   "metadata": {},
   "outputs": [
    {
     "data": {
      "image/png": "[encoded data removed]",
      "text/plain": [
       "<Figure size 203.683x200.667 with 1 Axes>"
      ]
     },
     "execution_count": 11,
     "metadata": {},
     "output_type": "execute_result"
    }
   ],
   "source": [
    "qc = QuantumCircuit(2)\n",
    "# swaps states of qubits a and b\n",
    "qc.swap(0,1)\n",
    "qc.draw('mpl')"
   ]
  },
  {
   "cell_type": "markdown",
   "metadata": {},
   "source": [
    "The command above directly invokes this gate, but let's see how we might make it using our standard gate set. For this, we'll need to consider a few examples.\n",
    "\n",
    "First, we'll look at the case that qubit a is in state $|1\\rangle$ and qubit b is in state $|0\\rangle$. For this we'll apply the following gates:"
   ]
  },
  {
   "cell_type": "code",
   "execution_count": 12,
   "metadata": {},
   "outputs": [
    {
     "data": {
      "image/png": "[encoded data removed]",
      "text/plain": [
       "<Figure size 287.294x200.667 with 1 Axes>"
      ]
     },
     "execution_count": 12,
     "metadata": {},
     "output_type": "execute_result"
    }
   ],
   "source": [
    "qc = QuantumCircuit(2)\n",
    "# swap a 1 from a to b\n",
    "qc.cx(0,1) # copies 1 from a to b\n",
    "qc.cx(1,0) # uses the 1 on b to rotate the state of a to 0\n",
    "qc.draw('mpl')"
   ]
  },
  {
   "cell_type": "markdown",
   "metadata": {},
   "source": [
    "This has the effect of putting qubit b in state $|1\\rangle$ and qubit a in state $|0\\rangle$. In this case at least, we have done a SWAP.\n",
    "\n",
    "Now let's take this state and SWAP back to the original one. As you may have guessed, we can do this with the reverse of the above process:"
   ]
  },
  {
   "cell_type": "code",
   "execution_count": 13,
   "metadata": {},
   "outputs": [
    {
     "data": {
      "image/png": "[encoded data removed]",
      "text/plain": [
       "<Figure size 454.517x200.667 with 1 Axes>"
      ]
     },
     "execution_count": 13,
     "metadata": {},
     "output_type": "execute_result"
    }
   ],
   "source": [
    "# swap a q from b to a\n",
    "qc.cx(1,0) # copies 1 from b to a\n",
    "qc.cx(0,1) # uses the 1 on a to rotate the state of b to 0\n",
    "qc.draw('mpl')"
   ]
  },
  {
   "cell_type": "markdown",
   "metadata": {},
   "source": [
    "Note that in these two processes, the first gate of one would have no effect on the initial state of the other. For example, when we swap the $|1\\rangle$ b to a, the first gate is `cx(b,a)`. If this were instead applied to a state where no $|1\\rangle$ was initially on b, it would have no effect.\n",
    "\n",
    "Note also that for these two processes, the final gate of one would have no effect on the final state of the other. For example, the final `cx(b,a)` that is required when we swap the $|1\\rangle$ from a to b has no effect on the state where the $|1\\rangle$ is not on b.\n",
    "\n",
    "With these observations, we can combine the two processes by adding an ineffective gate from one onto the other. For example,"
   ]
  },
  {
   "cell_type": "code",
   "execution_count": 14,
   "metadata": {},
   "outputs": [
    {
     "data": {
      "image/png": "[encoded data removed]",
      "text/plain": [
       "<Figure size 370.906x200.667 with 1 Axes>"
      ]
     },
     "execution_count": 14,
     "metadata": {},
     "output_type": "execute_result"
    }
   ],
   "source": [
    "qc = QuantumCircuit(2)\n",
    "qc.cx(1,0)\n",
    "qc.cx(0,1)\n",
    "qc.cx(1,0)\n",
    "qc.draw('mpl')"
   ]
  },
  {
   "cell_type": "markdown",
   "metadata": {},
   "source": [
    "We can think of this as a process that swaps a $|1\\rangle$ from a to b, but with a useless `qc.cx(b,a)` at the beginning. We can also think of it as a process that swaps a $|1\\rangle$ from b to a, but with a useless `qc.cx(b,a)` at the end. Either way, the result is a process that can do the swap both ways around.\n",
    "\n",
    "It also has the correct effect on the $|00\\rangle$ state. This is symmetric, and so swapping the states should have no effect. Since the CNOT gates have no effect when their control qubits are $|0\\rangle$, the process correctly does nothing.\n",
    "\n",
    "The $|11\\rangle$ state is also symmetric, and so needs a trivial effect from the swap. In this case, the first CNOT gate in the process above will cause the second to have no effect, and the third undoes the first. Therefore, the whole effect is indeed trivial.\n",
    "\n",
    "We have thus found a way to decompose SWAP gates into our standard gate set of single-qubit rotations and CNOT gates."
   ]
  },
  {
   "cell_type": "markdown",
   "metadata": {},
   "source": [
    "It works for the states $|00\\rangle$, $|01\\rangle$, $|10\\rangle$ and $|11\\rangle$, and if it works for all the states in the computational basis, it must work for all states generally. This circuit therefore swaps all possible two-qubit states.\n",
    "\n",
    "The same effect would also result if we changed the order of the CNOT gates:"
   ]
  },
  {
   "cell_type": "code",
   "execution_count": 15,
   "metadata": {},
   "outputs": [
    {
     "data": {
      "image/png": "[encoded data removed]",
      "text/plain": [
       "<Figure size 370.906x200.667 with 1 Axes>"
      ]
     },
     "execution_count": 15,
     "metadata": {},
     "output_type": "execute_result"
    }
   ],
   "source": [
    "qc = QuantumCircuit(2)\n",
    "# swaps states of qubits a and b\n",
    "qc.cx(0,1)\n",
    "qc.cx(1,0)\n",
    "qc.cx(0,1)\n",
    "qc.draw('mpl')"
   ]
  },
  {
   "cell_type": "markdown",
   "metadata": {},
   "source": [
    "This is an equally valid way to get the SWAP gate.\n",
    "\n",
    "The derivation used here was very much based on the z basis states, but it could also be done by thinking about what is required to swap qubits in states $|+\\rangle$ and $|-\\rangle$. The resulting ways of implementing the SWAP gate will be completely equivalent to the ones here.\n",
    "\n",
    "#### Quick Exercise:\n",
    "- Find a different circuit that swaps qubits in the states $|+\\rangle$ and $|-\\rangle$, and show that this is equivalent to the circuit shown above."
   ]
  },
  {
   "cell_type": "markdown",
   "metadata": {},
   "source": [
    "## 3. Controlled Rotations <a id=\"controlled-rotations\"></a>\n",
    "\n",
    "We have already seen how to build controlled $\\pi$ rotations from a single CNOT gate. Now we'll look at how to build any controlled rotation.\n",
    "\n",
    "First, let's consider arbitrary rotations around the y axis. Specifically, consider the following sequence of gates."
   ]
  },
  {
   "cell_type": "code",
   "execution_count": 48,
   "metadata": {},
   "outputs": [
    {
     "data": {
      "image/png": "[encoded data removed]",
      "text/plain": [
       "<Figure size 433.882x200.667 with 1 Axes>"
      ]
     },
     "execution_count": 48,
     "metadata": {},
     "output_type": "execute_result"
    }
   ],
   "source": [
    "c = QuantumRegister(1, 'c')\n",
    "t = QuantumRegister(1, 't')\n",
    "qc = QuantumCircuit(c,t)\n",
    "theta = pi # theta can be anything (pi chosen arbitrarily)\n",
    "qc.ry(theta/2,t)\n",
    "qc.cx(c,t)\n",
    "qc.ry(-theta/2,t)\n",
    "qc.cx(c,t)\n",
    "qc.draw('mpl')"
   ]
  },
  {
   "cell_type": "markdown",
   "metadata": {},
   "source": [
    "If the control qubit is in state $|0\\rangle$, all we have here is a $R_y(\\theta/2)$ immediately followed by its inverse, $R_y(-\\theta/2)$. The end effect is trivial. If the control qubit is in state $|1\\rangle$, however, the `ry(-theta/2)` is effectively preceded and followed by an X gate. This has the effect of flipping the direction of the y rotation and making a second $R_y(\\theta/2)$. The net effect in this case is therefore to make a controlled version of the rotation $R_y(\\theta)$. \n",
    "\n",
    "This method works because the x and y axis are orthogonal, which causes the x gates to flip the direction of the rotation. It therefore similarly works to make a controlled $R_z(\\theta)$. A controlled $R_x(\\theta)$ could similarly be made using CNOT gates.\n",
    "\n",
    "We can also make a controlled version of any single-qubit rotation, $V$. For this we simply need to find three rotations A, B and C, and a phase $\\alpha$ such that\n",
    "\n",
    "$$\n",
    "ABC = I, ~~~e^{i\\alpha}AZBZC = V\n",
    "$$\n",
    "\n",
    "We then use controlled-Z gates to cause the first of these relations to happen whenever the control is in state $|0\\rangle$, and the second to happen when the control is state $|1\\rangle$. An $R_z(2\\alpha)$ rotation is also used on the control to get the right phase, which will be important whenever there are superposition states."
   ]
  },
  {
   "cell_type": "code",
   "execution_count": 49,
   "metadata": {},
   "outputs": [],
   "source": [
    "A = Gate('A', 1, [])\n",
    "B = Gate('B', 1, [])\n",
    "C = Gate('C', 1, [])\n",
    "alpha = 1 # arbitrarily define alpha to allow drawing of circuit"
   ]
  },
  {
   "cell_type": "code",
   "execution_count": 52,
   "metadata": {},
   "outputs": [
    {
     "data": {
      "image/png": "[encoded data removed]",
      "text/plain": [
       "<Figure size 517.493x200.667 with 1 Axes>"
      ]
     },
     "execution_count": 52,
     "metadata": {},
     "output_type": "execute_result"
    }
   ],
   "source": [
    "c = QuantumRegister(1, 'c')\n",
    "t = QuantumRegister(1, 't')\n",
    "qc = QuantumCircuit(c,t)\n",
    "qc.append(C, [t])\n",
    "qc.cz(c,t)\n",
    "qc.append(B, [t])\n",
    "qc.cz(c,t)\n",
    "qc.append(A, [t])\n",
    "qc.p(alpha,c)\n",
    "qc.draw('mpl')"
   ]
  },
  {
   "cell_type": "markdown",
   "metadata": {},
   "source": [
    "![A controlled version of a gate V](images/iden1.png)\n",
    "\n",
    "Here `A`, `B` and `C` are gates that implement $A$ , $B$ and $C$, respectively."
   ]
  },
  {
   "cell_type": "markdown",
   "metadata": {},
   "source": [
    "## 4. The Toffoli <a id=\"ccx\"></a>\n",
    "\n",
    "The Toffoli gate is a three-qubit gate with two controls and one target. It performs an X on the target only if both controls are in the state $|1\\rangle$. The final state of the target is then equal to either the AND or the NAND of the two controls, depending on whether the initial state of the target was $|0\\rangle$ or $|1\\rangle$. A Toffoli can also be thought of as a controlled-controlled-NOT, and is also called the CCX gate."
   ]
  },
  {
   "cell_type": "code",
   "execution_count": 55,
   "metadata": {},
   "outputs": [
    {
     "data": {
      "image/png": "[encoded data removed]",
      "text/plain": [
       "<Figure size 203.885x284.278 with 1 Axes>"
      ]
     },
     "execution_count": 55,
     "metadata": {},
     "output_type": "execute_result"
    }
   ],
   "source": [
    "qc = QuantumCircuit(3)\n",
    "a = 0\n",
    "b = 1\n",
    "t = 2\n",
    "# Toffoli with control qubits a and b and target t\n",
    "qc.ccx(a,b,t)\n",
    "qc.draw('mpl')"
   ]
  },
  {
   "cell_type": "markdown",
   "metadata": {},
   "source": [
    "To see how to build it from single- and two-qubit gates, it is helpful to first show how to build something even more general: an arbitrary controlled-controlled-U for any single-qubit rotation U. For this we need to define controlled versions of $V = \\sqrt{U}$ and $V^\\dagger$. In the code below, we use `cp(theta,c,t)` and `cp(-theta,c,t)`in place of the undefined subroutines `cv` and `cvdg` respectively. The controls are qubits $a$ and $b$, and the target is qubit $t$."
   ]
  },
  {
   "cell_type": "code",
   "execution_count": 57,
   "metadata": {},
   "outputs": [
    {
     "data": {
      "image/png": "[encoded data removed]",
      "text/plain": [
       "<Figure size 621.941x284.278 with 1 Axes>"
      ]
     },
     "execution_count": 57,
     "metadata": {},
     "output_type": "execute_result"
    }
   ],
   "source": [
    "qc = QuantumCircuit(3)\n",
    "qc.cp(theta,b,t)\n",
    "qc.cx(a,b)\n",
    "qc.cp(-theta,b,t)\n",
    "qc.cx(a,b)\n",
    "qc.cp(theta,a,t)\n",
    "qc.draw('mpl')"
   ]
  },
  {
   "cell_type": "markdown",
   "metadata": {},
   "source": [
    "![A doubly controlled version of a gate V](images/iden2.png)\n",
    "\n",
    "By tracing through each value of the two control qubits, you can convince yourself that a U gate is applied to the target qubit if and only if both controls are 1. Using ideas we have already described, you could now implement each controlled-V gate to arrive at some circuit for the doubly-controlled-U gate. It turns out that the minimum number of CNOT gates required to implement the Toffoli gate is six [2].\n",
    "\n",
    "\n",
    "![A Toffoli](images/iden3.png)\n",
    "*This is a Toffoli with 3 qubits(q0,q1,q2) respectively. In this circuit example, q0 is connected with q2 but q0 is not connected with q1.\n",
    "\n",
    "\n",
    "The Toffoli is not the unique way to implement an AND gate in quantum computing. We could also define other gates that have the same effect, but which also introduce relative phases. In these cases, we can implement the gate with fewer CNOTs.\n",
    "\n",
    "For example, suppose we use both the controlled-Hadamard and controlled-$Z$ gates, which can both be implemented with a single CNOT. With these we can make the following circuit:"
   ]
  },
  {
   "cell_type": "code",
   "execution_count": 59,
   "metadata": {},
   "outputs": [
    {
     "data": {
      "image/png": "[encoded data removed]",
      "text/plain": [
       "<Figure size 371.107x284.278 with 1 Axes>"
      ]
     },
     "execution_count": 59,
     "metadata": {},
     "output_type": "execute_result"
    }
   ],
   "source": [
    "qc = QuantumCircuit(3)\n",
    "qc.ch(a,t)\n",
    "qc.cz(b,t)\n",
    "qc.ch(a,t)\n",
    "qc.draw('mpl')"
   ]
  },
  {
   "cell_type": "markdown",
   "metadata": {},
   "source": [
    "For the state $|00\\rangle$ on the two controls, this does nothing to the target. For $|11\\rangle$, the target experiences a $Z$ gate that is both preceded and followed by an H. The net effect is an $X$ on the target. For the states $|01\\rangle$ and $|10\\rangle$, the target experiences either just the two Hadamards \\(which cancel each other out\\) or just the $Z$ \\(which only induces a relative phase\\). This therefore also reproduces the effect of an AND, because the value of the target is only changed for the $|11\\rangle$ state on the controls -- but it does it with the equivalent of just three CNOT gates."
   ]
  },
  {
   "cell_type": "markdown",
   "metadata": {},
   "source": [
    "## 5. Arbitrary rotations from H and T <a id=\"arbitrary-rotations\"></a>\n",
    "\n",
    "The qubits in current devices are subject to noise, which basically consists of gates that are done by mistake. Simple things like temperature, stray magnetic fields or activity on neighboring qubits can make things happen that we didn't intend.\n",
    "\n",
    "For large applications of quantum computers, it will be necessary to encode our qubits in a way that protects them from this noise. This is done by making gates much harder to do by mistake, or to implement in a manner that is slightly wrong.\n",
    "\n",
    "This is unfortunate for the single-qubit rotations $R_x(\\theta)$, $R_y(\\theta)$ and $R_z(\\theta)$. It is impossible to implement an angle $\\theta$ with perfect accuracy, such that you are sure that you are not accidentally implementing something like $\\theta + 0.0000001$. There will always be a limit to the accuracy we can achieve, and it will always be larger than is tolerable when we account for the build-up of imperfections over large circuits. We will therefore not be able to implement these rotations directly in fault-tolerant quantum computers, but will instead need to build them in a much more deliberate manner.\n",
    "\n",
    "Fault-tolerant schemes typically perform these rotations using multiple applications of just two gates: $H$ and $T$.\n",
    "\n",
    "The T gate is expressed in Qiskit as `.t()`:"
   ]
  },
  {
   "cell_type": "code",
   "execution_count": 60,
   "metadata": {},
   "outputs": [
    {
     "data": {
      "image/png": "[encoded data removed]",
      "text/plain": [
       "<Figure size 185.453x117.056 with 1 Axes>"
      ]
     },
     "execution_count": 60,
     "metadata": {},
     "output_type": "execute_result"
    }
   ],
   "source": [
    "qc = QuantumCircuit(1)\n",
    "qc.t(0) # T gate on qubit 0\n",
    "qc.draw('mpl')"
   ]
  },
  {
   "cell_type": "markdown",
   "metadata": {},
   "source": [
    "It is a rotation around the z axis by $\\theta = \\pi/4$, and so is expressed mathematically as $R_z(\\pi/4) = e^{i\\pi/8~Z}$.\n",
    "\n",
    "In the following we assume that the $H$ and $T$ gates are effectively perfect. This can be engineered by suitable methods for error correction and fault-tolerance.\n",
    "\n",
    "Using the Hadamard and the methods discussed in the last chapter, we can use the T gate to create a similar rotation around the x axis."
   ]
  },
  {
   "cell_type": "code",
   "execution_count": 62,
   "metadata": {},
   "outputs": [
    {
     "data": {
      "image/png": "[encoded data removed]",
      "text/plain": [
       "<Figure size 352.675x117.056 with 1 Axes>"
      ]
     },
     "execution_count": 62,
     "metadata": {},
     "output_type": "execute_result"
    }
   ],
   "source": [
    "qc = QuantumCircuit(1)\n",
    "qc.h(0)\n",
    "qc.t(0)\n",
    "qc.h(0)\n",
    "qc.draw('mpl')"
   ]
  },
  {
   "cell_type": "markdown",
   "metadata": {},
   "source": [
    "Now let's put the two together. Let's make the gate $R_z(\\pi/4)~R_x(\\pi/4)$."
   ]
  },
  {
   "cell_type": "code",
   "execution_count": 63,
   "metadata": {},
   "outputs": [
    {
     "data": {
      "image/png": "[encoded data removed]",
      "text/plain": [
       "<Figure size 436.286x117.056 with 1 Axes>"
      ]
     },
     "execution_count": 63,
     "metadata": {},
     "output_type": "execute_result"
    }
   ],
   "source": [
    "qc = QuantumCircuit(1)\n",
    "qc.h(0)\n",
    "qc.t(0)\n",
    "qc.h(0)\n",
    "qc.t(0)\n",
    "qc.draw('mpl')"
   ]
  },
  {
   "cell_type": "markdown",
   "metadata": {},
   "source": [
    "Since this is a single-qubit gate, we can think of it as a rotation around the Bloch sphere. That means that it is a rotation around some axis by some angle. We don't need to think about the axis too much here, but it clearly won't be simply x, y or z. More important is the angle.\n",
    "\n",
    "The crucial property of the angle for this rotation is that it is an irrational multiple of $\\pi$. You can prove this yourself with a bunch of math, but you can also see the irrationality in action by applying the gate. Keeping in mind that every time we apply a rotation that is larger than $2\\pi$, we are doing an implicit modulos by $2\\pi$ on the rotation angle. Thus, repeating the combined rotation mentioned above $n$ times results in a rotation around the same axis by a different angle. As a hint to a rigorous proof, recall that an irrational number cannot be be written as what?\n",
    "\n",
    "We can use this to our advantage. Each angle will be somewhere between $0$ and $2\\pi$. Let's split this interval up into $n$ slices of width $2\\pi/n$. For each repetition, the resulting angle will fall in one of these slices. If we look at the angles for the first $n+1$ repetitions, it must be true that at least one slice contains two of these angles due to the pigeonhole principle. Let's use $n_1$ to denote the number of repetitions required for the first, and $n_2$ for the second.\n",
    "\n",
    "With this, we can prove something about the angle for $n_2-n_1$ repetitions. This is effectively the same as doing $n_2$ repetitions, followed by the inverse of $n_1$ repetitions. Since the angles for these are not equal \\(because of the irrationality\\) but also differ by no greater than $2\\pi/n$ \\(because they correspond to the same slice\\), the angle for $n_2-n_1$ repetitions satisfies\n",
    "\n",
    "$$\n",
    "\\theta_{n_2-n_1} \\neq 0, ~~~~-\\frac{2\\pi}{n} \\leq \\theta_{n_2-n_1} \\leq \\frac{2\\pi}{n} .\n",
    "$$\n",
    "\n",
    "We therefore have the ability to do rotations around small angles. We can use this to rotate around angles that are as small as we like, just by increasing the number of times we repeat this gate.\n",
    "\n",
    "By using many small-angle rotations, we can also rotate by any angle we like. This won't always be exact, but it is guaranteed to be accurate up to $2\\pi/n$, which can be made as small as we like. We  now have power over the inaccuracies in our rotations.\n",
    "\n",
    "So far, we only have the power to do these arbitrary rotations around one axis. For a second axis, we simply do the $R_z(\\pi/4)$ and $R_x(\\pi/4)$ rotations in the opposite order."
   ]
  },
  {
   "cell_type": "code",
   "execution_count": 64,
   "metadata": {},
   "outputs": [
    {
     "data": {
      "image/png": "[encoded data removed]",
      "text/plain": [
       "<Figure size 436.286x117.056 with 1 Axes>"
      ]
     },
     "execution_count": 64,
     "metadata": {},
     "output_type": "execute_result"
    }
   ],
   "source": [
    "qc = QuantumCircuit(1)\n",
    "qc.t(0)\n",
    "qc.h(0)\n",
    "qc.t(0)\n",
    "qc.h(0)\n",
    "qc.draw('mpl')"
   ]
  },
  {
   "cell_type": "markdown",
   "metadata": {},
   "source": [
    "The axis that corresponds to this rotation is not the same as that for the gate considered previously. We therefore now have arbitrary rotation around two axes, which can be used to generate any arbitrary rotation around the Bloch sphere. We are back to being able to do everything, though it costs quite a lot of $T$ gates.\n",
    "\n",
    "It is because of this kind of application that $T$ gates are so prominent in quantum computation. In fact, the complexity of algorithms for fault-tolerant quantum computers is often quoted in terms of how many $T$ gates they'll need. This motivates the quest to achieve things with as few $T$ gates as possible. Note that the discussion above was simply intended to prove that $T$ gates can be used in this way, and does not represent the most efficient method we know."
   ]
  },
  {
   "cell_type": "code",
   "execution_count": null,
   "metadata": {},
   "outputs": [],
   "source": []
  }
 ],
 "metadata": {
  "kernelspec": {
   "display_name": "Python 3 (ipykernel)",
   "language": "python",
   "name": "python3"
  },
  "language_info": {
   "codemirror_mode": {
    "name": "ipython",
    "version": 3
   },
   "file_extension": ".py",
   "mimetype": "text/x-python",
   "name": "python",
   "nbconvert_exporter": "python",
   "pygments_lexer": "ipython3",
   "version": "3.13.2"
  }
 },
 "nbformat": 4,
 "nbformat_minor": 4
}
